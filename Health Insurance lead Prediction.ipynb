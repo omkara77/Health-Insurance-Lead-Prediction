{
 "cells": [
  {
   "cell_type": "markdown",
   "metadata": {
    "toc": true
   },
   "source": [
    "<h1>Table of Contents<span class=\"tocSkip\"></span></h1>\n",
    "<div class=\"toc\"><ul class=\"toc-item\"><li><span><a href=\"#Importing-Libraries\" data-toc-modified-id=\"Importing-Libraries-1\"><span class=\"toc-item-num\">1&nbsp;&nbsp;</span>Importing Libraries</a></span></li><li><span><a href=\"#EDA\" data-toc-modified-id=\"EDA-2\"><span class=\"toc-item-num\">2&nbsp;&nbsp;</span>EDA</a></span><ul class=\"toc-item\"><li><span><a href=\"#Accomodation_Type\" data-toc-modified-id=\"Accomodation_Type-2.1\"><span class=\"toc-item-num\">2.1&nbsp;&nbsp;</span>Accomodation_Type</a></span></li><li><span><a href=\"#Reco_Insurance_Type\" data-toc-modified-id=\"Reco_Insurance_Type-2.2\"><span class=\"toc-item-num\">2.2&nbsp;&nbsp;</span>Reco_Insurance_Type</a></span></li><li><span><a href=\"#Upper_Age\" data-toc-modified-id=\"Upper_Age-2.3\"><span class=\"toc-item-num\">2.3&nbsp;&nbsp;</span>Upper_Age</a></span></li><li><span><a href=\"#Lower_Age\" data-toc-modified-id=\"Lower_Age-2.4\"><span class=\"toc-item-num\">2.4&nbsp;&nbsp;</span>Lower_Age</a></span></li><li><span><a href=\"#Is_Spouse\" data-toc-modified-id=\"Is_Spouse-2.5\"><span class=\"toc-item-num\">2.5&nbsp;&nbsp;</span>Is_Spouse</a></span></li><li><span><a href=\"#Reco_Policy_Cat\" data-toc-modified-id=\"Reco_Policy_Cat-2.6\"><span class=\"toc-item-num\">2.6&nbsp;&nbsp;</span>Reco_Policy_Cat</a></span></li><li><span><a href=\"#Response-(univariate)\" data-toc-modified-id=\"Response-(univariate)-2.7\"><span class=\"toc-item-num\">2.7&nbsp;&nbsp;</span>Response (univariate)</a></span></li></ul></li><li><span><a href=\"#Assinging-X-and-y\" data-toc-modified-id=\"Assinging-X-and-y-3\"><span class=\"toc-item-num\">3&nbsp;&nbsp;</span>Assinging X and y</a></span></li><li><span><a href=\"#Train-Validation-Split\" data-toc-modified-id=\"Train-Validation-Split-4\"><span class=\"toc-item-num\">4&nbsp;&nbsp;</span>Train Validation Split</a></span></li><li><span><a href=\"#Model-Building\" data-toc-modified-id=\"Model-Building-5\"><span class=\"toc-item-num\">5&nbsp;&nbsp;</span>Model Building</a></span><ul class=\"toc-item\"><li><span><a href=\"#Decision-Tree\" data-toc-modified-id=\"Decision-Tree-5.1\"><span class=\"toc-item-num\">5.1&nbsp;&nbsp;</span>Decision Tree</a></span></li><li><span><a href=\"#XG-Boost\" data-toc-modified-id=\"XG-Boost-5.2\"><span class=\"toc-item-num\">5.2&nbsp;&nbsp;</span>XG Boost</a></span></li><li><span><a href=\"#Random-Forest\" data-toc-modified-id=\"Random-Forest-5.3\"><span class=\"toc-item-num\">5.3&nbsp;&nbsp;</span>Random Forest</a></span></li><li><span><a href=\"#Gradient-boost\" data-toc-modified-id=\"Gradient-boost-5.4\"><span class=\"toc-item-num\">5.4&nbsp;&nbsp;</span>Gradient boost</a></span></li></ul></li></ul></div>"
   ]
  },
  {
   "cell_type": "markdown",
   "metadata": {
    "ExecuteTime": {
     "end_time": "2021-02-25T18:40:57.262460Z",
     "start_time": "2021-02-25T18:40:57.257474Z"
    }
   },
   "source": [
    "## Importing Libraries"
   ]
  },
  {
   "cell_type": "code",
   "execution_count": 1,
   "metadata": {
    "ExecuteTime": {
     "end_time": "2021-02-28T13:49:19.795815Z",
     "start_time": "2021-02-28T13:49:02.737253Z"
    }
   },
   "outputs": [],
   "source": [
    "#for managing dataframes\n",
    "import pandas as pd\n",
    "\n",
    "#for numerical operations\n",
    "import numpy as np\n",
    " \n",
    "#for visualization\n",
    "import seaborn as sns\n",
    "import matplotlib.pyplot as plt\n",
    "\n",
    "#for imputations\n",
    "import statistics\n",
    "\n",
    "#for machine learning\n",
    "from sklearn.model_selection import train_test_split\n",
    "from sklearn.metrics import classification_report, confusion_matrix, accuracy_score, f1_score, make_scorer\n",
    "from sklearn.model_selection import GridSearchCV\n",
    "from sklearn.naive_bayes import GaussianNB\n",
    "from sklearn.linear_model import LogisticRegression\n",
    "from sklearn.neighbors import KNeighborsClassifier\n",
    "from sklearn.tree import DecisionTreeClassifier\n",
    "from sklearn.svm import SVC\n",
    "from sklearn.ensemble import RandomForestClassifier, GradientBoostingClassifier\n",
    "import xgboost as xgb\n",
    "from sklearn.ensemble import AdaBoostClassifier\n",
    "from catboost import CatBoostClassifier\n",
    "from lightgbm import LGBMClassifier\n",
    "from mlxtend.classifier import EnsembleVoteClassifier\n",
    "from mlxtend.classifier import StackingClassifier\n",
    "import warnings\n",
    "warnings.filterwarnings('ignore')"
   ]
  },
  {
   "cell_type": "code",
   "execution_count": 2,
   "metadata": {
    "ExecuteTime": {
     "end_time": "2021-02-28T13:49:19.811234Z",
     "start_time": "2021-02-28T13:49:19.798700Z"
    }
   },
   "outputs": [],
   "source": [
    "## Reading Datasets"
   ]
  },
  {
   "cell_type": "code",
   "execution_count": 3,
   "metadata": {
    "ExecuteTime": {
     "end_time": "2021-02-28T13:49:20.459834Z",
     "start_time": "2021-02-28T13:49:19.815889Z"
    }
   },
   "outputs": [],
   "source": [
    "#load dataset\n",
    "health_train = pd.read_csv('train_Df64byy.csv')\n",
    "health_test = pd.read_csv('test_YCcRUnU.csv')\n",
    "health_submission = pd.read_csv('sample_submission_QrCyCoT.csv')"
   ]
  },
  {
   "cell_type": "code",
   "execution_count": 4,
   "metadata": {
    "ExecuteTime": {
     "end_time": "2021-02-28T13:49:20.553484Z",
     "start_time": "2021-02-28T13:49:20.463209Z"
    }
   },
   "outputs": [
    {
     "data": {
      "text/html": [
       "<div>\n",
       "<style scoped>\n",
       "    .dataframe tbody tr th:only-of-type {\n",
       "        vertical-align: middle;\n",
       "    }\n",
       "\n",
       "    .dataframe tbody tr th {\n",
       "        vertical-align: top;\n",
       "    }\n",
       "\n",
       "    .dataframe thead th {\n",
       "        text-align: right;\n",
       "    }\n",
       "</style>\n",
       "<table border=\"1\" class=\"dataframe\">\n",
       "  <thead>\n",
       "    <tr style=\"text-align: right;\">\n",
       "      <th></th>\n",
       "      <th>ID</th>\n",
       "      <th>City_Code</th>\n",
       "      <th>Region_Code</th>\n",
       "      <th>Accomodation_Type</th>\n",
       "      <th>Reco_Insurance_Type</th>\n",
       "      <th>Upper_Age</th>\n",
       "      <th>Lower_Age</th>\n",
       "      <th>Is_Spouse</th>\n",
       "      <th>Health Indicator</th>\n",
       "      <th>Holding_Policy_Duration</th>\n",
       "      <th>Holding_Policy_Type</th>\n",
       "      <th>Reco_Policy_Cat</th>\n",
       "      <th>Reco_Policy_Premium</th>\n",
       "      <th>Response</th>\n",
       "    </tr>\n",
       "  </thead>\n",
       "  <tbody>\n",
       "    <tr>\n",
       "      <th>0</th>\n",
       "      <td>1</td>\n",
       "      <td>C3</td>\n",
       "      <td>3213</td>\n",
       "      <td>Rented</td>\n",
       "      <td>Individual</td>\n",
       "      <td>36</td>\n",
       "      <td>36</td>\n",
       "      <td>No</td>\n",
       "      <td>X1</td>\n",
       "      <td>14+</td>\n",
       "      <td>3.0</td>\n",
       "      <td>22</td>\n",
       "      <td>11628.0</td>\n",
       "      <td>0</td>\n",
       "    </tr>\n",
       "    <tr>\n",
       "      <th>1</th>\n",
       "      <td>2</td>\n",
       "      <td>C5</td>\n",
       "      <td>1117</td>\n",
       "      <td>Owned</td>\n",
       "      <td>Joint</td>\n",
       "      <td>75</td>\n",
       "      <td>22</td>\n",
       "      <td>No</td>\n",
       "      <td>X2</td>\n",
       "      <td>NaN</td>\n",
       "      <td>NaN</td>\n",
       "      <td>22</td>\n",
       "      <td>30510.0</td>\n",
       "      <td>0</td>\n",
       "    </tr>\n",
       "    <tr>\n",
       "      <th>2</th>\n",
       "      <td>3</td>\n",
       "      <td>C5</td>\n",
       "      <td>3732</td>\n",
       "      <td>Owned</td>\n",
       "      <td>Individual</td>\n",
       "      <td>32</td>\n",
       "      <td>32</td>\n",
       "      <td>No</td>\n",
       "      <td>NaN</td>\n",
       "      <td>1.0</td>\n",
       "      <td>1.0</td>\n",
       "      <td>19</td>\n",
       "      <td>7450.0</td>\n",
       "      <td>1</td>\n",
       "    </tr>\n",
       "    <tr>\n",
       "      <th>3</th>\n",
       "      <td>4</td>\n",
       "      <td>C24</td>\n",
       "      <td>4378</td>\n",
       "      <td>Owned</td>\n",
       "      <td>Joint</td>\n",
       "      <td>52</td>\n",
       "      <td>48</td>\n",
       "      <td>No</td>\n",
       "      <td>X1</td>\n",
       "      <td>14+</td>\n",
       "      <td>3.0</td>\n",
       "      <td>19</td>\n",
       "      <td>17780.0</td>\n",
       "      <td>0</td>\n",
       "    </tr>\n",
       "    <tr>\n",
       "      <th>4</th>\n",
       "      <td>5</td>\n",
       "      <td>C8</td>\n",
       "      <td>2190</td>\n",
       "      <td>Rented</td>\n",
       "      <td>Individual</td>\n",
       "      <td>44</td>\n",
       "      <td>44</td>\n",
       "      <td>No</td>\n",
       "      <td>X2</td>\n",
       "      <td>3.0</td>\n",
       "      <td>1.0</td>\n",
       "      <td>16</td>\n",
       "      <td>10404.0</td>\n",
       "      <td>0</td>\n",
       "    </tr>\n",
       "    <tr>\n",
       "      <th>...</th>\n",
       "      <td>...</td>\n",
       "      <td>...</td>\n",
       "      <td>...</td>\n",
       "      <td>...</td>\n",
       "      <td>...</td>\n",
       "      <td>...</td>\n",
       "      <td>...</td>\n",
       "      <td>...</td>\n",
       "      <td>...</td>\n",
       "      <td>...</td>\n",
       "      <td>...</td>\n",
       "      <td>...</td>\n",
       "      <td>...</td>\n",
       "      <td>...</td>\n",
       "    </tr>\n",
       "    <tr>\n",
       "      <th>50877</th>\n",
       "      <td>50878</td>\n",
       "      <td>C4</td>\n",
       "      <td>845</td>\n",
       "      <td>Rented</td>\n",
       "      <td>Individual</td>\n",
       "      <td>22</td>\n",
       "      <td>22</td>\n",
       "      <td>No</td>\n",
       "      <td>X3</td>\n",
       "      <td>NaN</td>\n",
       "      <td>NaN</td>\n",
       "      <td>18</td>\n",
       "      <td>7704.0</td>\n",
       "      <td>0</td>\n",
       "    </tr>\n",
       "    <tr>\n",
       "      <th>50878</th>\n",
       "      <td>50879</td>\n",
       "      <td>C5</td>\n",
       "      <td>4188</td>\n",
       "      <td>Rented</td>\n",
       "      <td>Individual</td>\n",
       "      <td>27</td>\n",
       "      <td>27</td>\n",
       "      <td>No</td>\n",
       "      <td>X3</td>\n",
       "      <td>7.0</td>\n",
       "      <td>3.0</td>\n",
       "      <td>4</td>\n",
       "      <td>5408.0</td>\n",
       "      <td>0</td>\n",
       "    </tr>\n",
       "    <tr>\n",
       "      <th>50879</th>\n",
       "      <td>50880</td>\n",
       "      <td>C1</td>\n",
       "      <td>442</td>\n",
       "      <td>Rented</td>\n",
       "      <td>Individual</td>\n",
       "      <td>63</td>\n",
       "      <td>63</td>\n",
       "      <td>No</td>\n",
       "      <td>X2</td>\n",
       "      <td>14+</td>\n",
       "      <td>1.0</td>\n",
       "      <td>12</td>\n",
       "      <td>11374.0</td>\n",
       "      <td>0</td>\n",
       "    </tr>\n",
       "    <tr>\n",
       "      <th>50880</th>\n",
       "      <td>50881</td>\n",
       "      <td>C1</td>\n",
       "      <td>4</td>\n",
       "      <td>Owned</td>\n",
       "      <td>Joint</td>\n",
       "      <td>71</td>\n",
       "      <td>49</td>\n",
       "      <td>No</td>\n",
       "      <td>X2</td>\n",
       "      <td>2.0</td>\n",
       "      <td>2.0</td>\n",
       "      <td>16</td>\n",
       "      <td>28179.2</td>\n",
       "      <td>1</td>\n",
       "    </tr>\n",
       "    <tr>\n",
       "      <th>50881</th>\n",
       "      <td>50882</td>\n",
       "      <td>C3</td>\n",
       "      <td>3866</td>\n",
       "      <td>Rented</td>\n",
       "      <td>Individual</td>\n",
       "      <td>24</td>\n",
       "      <td>24</td>\n",
       "      <td>No</td>\n",
       "      <td>X3</td>\n",
       "      <td>2.0</td>\n",
       "      <td>3.0</td>\n",
       "      <td>18</td>\n",
       "      <td>11424.0</td>\n",
       "      <td>0</td>\n",
       "    </tr>\n",
       "  </tbody>\n",
       "</table>\n",
       "<p>50882 rows × 14 columns</p>\n",
       "</div>"
      ],
      "text/plain": [
       "          ID City_Code  Region_Code Accomodation_Type Reco_Insurance_Type  \\\n",
       "0          1        C3         3213            Rented          Individual   \n",
       "1          2        C5         1117             Owned               Joint   \n",
       "2          3        C5         3732             Owned          Individual   \n",
       "3          4       C24         4378             Owned               Joint   \n",
       "4          5        C8         2190            Rented          Individual   \n",
       "...      ...       ...          ...               ...                 ...   \n",
       "50877  50878        C4          845            Rented          Individual   \n",
       "50878  50879        C5         4188            Rented          Individual   \n",
       "50879  50880        C1          442            Rented          Individual   \n",
       "50880  50881        C1            4             Owned               Joint   \n",
       "50881  50882        C3         3866            Rented          Individual   \n",
       "\n",
       "       Upper_Age  Lower_Age Is_Spouse Health Indicator  \\\n",
       "0             36         36        No               X1   \n",
       "1             75         22        No               X2   \n",
       "2             32         32        No              NaN   \n",
       "3             52         48        No               X1   \n",
       "4             44         44        No               X2   \n",
       "...          ...        ...       ...              ...   \n",
       "50877         22         22        No               X3   \n",
       "50878         27         27        No               X3   \n",
       "50879         63         63        No               X2   \n",
       "50880         71         49        No               X2   \n",
       "50881         24         24        No               X3   \n",
       "\n",
       "      Holding_Policy_Duration  Holding_Policy_Type  Reco_Policy_Cat  \\\n",
       "0                         14+                  3.0               22   \n",
       "1                         NaN                  NaN               22   \n",
       "2                         1.0                  1.0               19   \n",
       "3                         14+                  3.0               19   \n",
       "4                         3.0                  1.0               16   \n",
       "...                       ...                  ...              ...   \n",
       "50877                     NaN                  NaN               18   \n",
       "50878                     7.0                  3.0                4   \n",
       "50879                     14+                  1.0               12   \n",
       "50880                     2.0                  2.0               16   \n",
       "50881                     2.0                  3.0               18   \n",
       "\n",
       "       Reco_Policy_Premium  Response  \n",
       "0                  11628.0         0  \n",
       "1                  30510.0         0  \n",
       "2                   7450.0         1  \n",
       "3                  17780.0         0  \n",
       "4                  10404.0         0  \n",
       "...                    ...       ...  \n",
       "50877               7704.0         0  \n",
       "50878               5408.0         0  \n",
       "50879              11374.0         0  \n",
       "50880              28179.2         1  \n",
       "50881              11424.0         0  \n",
       "\n",
       "[50882 rows x 14 columns]"
      ]
     },
     "execution_count": 4,
     "metadata": {},
     "output_type": "execute_result"
    }
   ],
   "source": [
    "#checking head and tail of the datasets\n",
    "health_train"
   ]
  },
  {
   "cell_type": "code",
   "execution_count": 5,
   "metadata": {
    "ExecuteTime": {
     "end_time": "2021-02-28T13:49:20.568544Z",
     "start_time": "2021-02-28T13:49:20.559382Z"
    }
   },
   "outputs": [
    {
     "data": {
      "text/plain": [
       "(50882, 14)"
      ]
     },
     "execution_count": 5,
     "metadata": {},
     "output_type": "execute_result"
    }
   ],
   "source": [
    "health_train.shape"
   ]
  },
  {
   "cell_type": "code",
   "execution_count": 6,
   "metadata": {
    "ExecuteTime": {
     "end_time": "2021-02-28T13:49:20.629440Z",
     "start_time": "2021-02-28T13:49:20.572265Z"
    }
   },
   "outputs": [
    {
     "data": {
      "text/plain": [
       "ID                           int64\n",
       "City_Code                   object\n",
       "Region_Code                  int64\n",
       "Accomodation_Type           object\n",
       "Reco_Insurance_Type         object\n",
       "Upper_Age                    int64\n",
       "Lower_Age                    int64\n",
       "Is_Spouse                   object\n",
       "Health Indicator            object\n",
       "Holding_Policy_Duration     object\n",
       "Holding_Policy_Type        float64\n",
       "Reco_Policy_Cat              int64\n",
       "Reco_Policy_Premium        float64\n",
       "Response                     int64\n",
       "dtype: object"
      ]
     },
     "execution_count": 6,
     "metadata": {},
     "output_type": "execute_result"
    }
   ],
   "source": [
    "#checking features datatypes\n",
    "health_train.dtypes"
   ]
  },
  {
   "cell_type": "code",
   "execution_count": 7,
   "metadata": {
    "ExecuteTime": {
     "end_time": "2021-02-28T13:49:21.182063Z",
     "start_time": "2021-02-28T13:49:20.631974Z"
    }
   },
   "outputs": [
    {
     "data": {
      "text/plain": [
       "ID                           int64\n",
       "City_Code                   object\n",
       "Region_Code                  int64\n",
       "Accomodation_Type           object\n",
       "Reco_Insurance_Type         object\n",
       "Upper_Age                    int64\n",
       "Lower_Age                    int64\n",
       "Is_Spouse                   object\n",
       "Health Indicator            object\n",
       "Holding_Policy_Duration     object\n",
       "Holding_Policy_Type        float64\n",
       "Reco_Policy_Cat              int64\n",
       "Reco_Policy_Premium        float64\n",
       "dtype: object"
      ]
     },
     "execution_count": 7,
     "metadata": {},
     "output_type": "execute_result"
    }
   ],
   "source": [
    "health_test.dtypes"
   ]
  },
  {
   "cell_type": "code",
   "execution_count": 8,
   "metadata": {
    "ExecuteTime": {
     "end_time": "2021-02-28T13:49:21.535290Z",
     "start_time": "2021-02-28T13:49:21.186114Z"
    }
   },
   "outputs": [
    {
     "data": {
      "text/html": [
       "<div>\n",
       "<style scoped>\n",
       "    .dataframe tbody tr th:only-of-type {\n",
       "        vertical-align: middle;\n",
       "    }\n",
       "\n",
       "    .dataframe tbody tr th {\n",
       "        vertical-align: top;\n",
       "    }\n",
       "\n",
       "    .dataframe thead th {\n",
       "        text-align: right;\n",
       "    }\n",
       "</style>\n",
       "<table border=\"1\" class=\"dataframe\">\n",
       "  <thead>\n",
       "    <tr style=\"text-align: right;\">\n",
       "      <th></th>\n",
       "      <th>ID</th>\n",
       "      <th>City_Code</th>\n",
       "      <th>Region_Code</th>\n",
       "      <th>Accomodation_Type</th>\n",
       "      <th>Reco_Insurance_Type</th>\n",
       "      <th>Upper_Age</th>\n",
       "      <th>Lower_Age</th>\n",
       "      <th>Is_Spouse</th>\n",
       "      <th>Health Indicator</th>\n",
       "      <th>Holding_Policy_Duration</th>\n",
       "      <th>Holding_Policy_Type</th>\n",
       "      <th>Reco_Policy_Cat</th>\n",
       "      <th>Reco_Policy_Premium</th>\n",
       "      <th>Response</th>\n",
       "    </tr>\n",
       "  </thead>\n",
       "  <tbody>\n",
       "    <tr>\n",
       "      <th>count</th>\n",
       "      <td>50882.000000</td>\n",
       "      <td>50882</td>\n",
       "      <td>50882.000000</td>\n",
       "      <td>50882</td>\n",
       "      <td>50882</td>\n",
       "      <td>50882.000000</td>\n",
       "      <td>50882.000000</td>\n",
       "      <td>50882</td>\n",
       "      <td>39191</td>\n",
       "      <td>30631</td>\n",
       "      <td>30631.000000</td>\n",
       "      <td>50882.000000</td>\n",
       "      <td>50882.000000</td>\n",
       "      <td>50882.000000</td>\n",
       "    </tr>\n",
       "    <tr>\n",
       "      <th>unique</th>\n",
       "      <td>NaN</td>\n",
       "      <td>36</td>\n",
       "      <td>NaN</td>\n",
       "      <td>2</td>\n",
       "      <td>2</td>\n",
       "      <td>NaN</td>\n",
       "      <td>NaN</td>\n",
       "      <td>2</td>\n",
       "      <td>9</td>\n",
       "      <td>15</td>\n",
       "      <td>NaN</td>\n",
       "      <td>NaN</td>\n",
       "      <td>NaN</td>\n",
       "      <td>NaN</td>\n",
       "    </tr>\n",
       "    <tr>\n",
       "      <th>top</th>\n",
       "      <td>NaN</td>\n",
       "      <td>C1</td>\n",
       "      <td>NaN</td>\n",
       "      <td>Owned</td>\n",
       "      <td>Individual</td>\n",
       "      <td>NaN</td>\n",
       "      <td>NaN</td>\n",
       "      <td>No</td>\n",
       "      <td>X1</td>\n",
       "      <td>1.0</td>\n",
       "      <td>NaN</td>\n",
       "      <td>NaN</td>\n",
       "      <td>NaN</td>\n",
       "      <td>NaN</td>\n",
       "    </tr>\n",
       "    <tr>\n",
       "      <th>freq</th>\n",
       "      <td>NaN</td>\n",
       "      <td>8973</td>\n",
       "      <td>NaN</td>\n",
       "      <td>27951</td>\n",
       "      <td>40536</td>\n",
       "      <td>NaN</td>\n",
       "      <td>NaN</td>\n",
       "      <td>42460</td>\n",
       "      <td>13010</td>\n",
       "      <td>4499</td>\n",
       "      <td>NaN</td>\n",
       "      <td>NaN</td>\n",
       "      <td>NaN</td>\n",
       "      <td>NaN</td>\n",
       "    </tr>\n",
       "    <tr>\n",
       "      <th>mean</th>\n",
       "      <td>25441.500000</td>\n",
       "      <td>NaN</td>\n",
       "      <td>1732.788707</td>\n",
       "      <td>NaN</td>\n",
       "      <td>NaN</td>\n",
       "      <td>44.856275</td>\n",
       "      <td>42.738866</td>\n",
       "      <td>NaN</td>\n",
       "      <td>NaN</td>\n",
       "      <td>NaN</td>\n",
       "      <td>2.439228</td>\n",
       "      <td>15.115188</td>\n",
       "      <td>14183.950069</td>\n",
       "      <td>0.239947</td>\n",
       "    </tr>\n",
       "    <tr>\n",
       "      <th>std</th>\n",
       "      <td>14688.512535</td>\n",
       "      <td>NaN</td>\n",
       "      <td>1424.081652</td>\n",
       "      <td>NaN</td>\n",
       "      <td>NaN</td>\n",
       "      <td>17.310271</td>\n",
       "      <td>17.319375</td>\n",
       "      <td>NaN</td>\n",
       "      <td>NaN</td>\n",
       "      <td>NaN</td>\n",
       "      <td>1.025923</td>\n",
       "      <td>6.340663</td>\n",
       "      <td>6590.074873</td>\n",
       "      <td>0.427055</td>\n",
       "    </tr>\n",
       "    <tr>\n",
       "      <th>min</th>\n",
       "      <td>1.000000</td>\n",
       "      <td>NaN</td>\n",
       "      <td>1.000000</td>\n",
       "      <td>NaN</td>\n",
       "      <td>NaN</td>\n",
       "      <td>18.000000</td>\n",
       "      <td>16.000000</td>\n",
       "      <td>NaN</td>\n",
       "      <td>NaN</td>\n",
       "      <td>NaN</td>\n",
       "      <td>1.000000</td>\n",
       "      <td>1.000000</td>\n",
       "      <td>2280.000000</td>\n",
       "      <td>0.000000</td>\n",
       "    </tr>\n",
       "    <tr>\n",
       "      <th>25%</th>\n",
       "      <td>12721.250000</td>\n",
       "      <td>NaN</td>\n",
       "      <td>523.000000</td>\n",
       "      <td>NaN</td>\n",
       "      <td>NaN</td>\n",
       "      <td>28.000000</td>\n",
       "      <td>27.000000</td>\n",
       "      <td>NaN</td>\n",
       "      <td>NaN</td>\n",
       "      <td>NaN</td>\n",
       "      <td>1.000000</td>\n",
       "      <td>12.000000</td>\n",
       "      <td>9248.000000</td>\n",
       "      <td>0.000000</td>\n",
       "    </tr>\n",
       "    <tr>\n",
       "      <th>50%</th>\n",
       "      <td>25441.500000</td>\n",
       "      <td>NaN</td>\n",
       "      <td>1391.000000</td>\n",
       "      <td>NaN</td>\n",
       "      <td>NaN</td>\n",
       "      <td>44.000000</td>\n",
       "      <td>40.000000</td>\n",
       "      <td>NaN</td>\n",
       "      <td>NaN</td>\n",
       "      <td>NaN</td>\n",
       "      <td>3.000000</td>\n",
       "      <td>17.000000</td>\n",
       "      <td>13178.000000</td>\n",
       "      <td>0.000000</td>\n",
       "    </tr>\n",
       "    <tr>\n",
       "      <th>75%</th>\n",
       "      <td>38161.750000</td>\n",
       "      <td>NaN</td>\n",
       "      <td>2667.000000</td>\n",
       "      <td>NaN</td>\n",
       "      <td>NaN</td>\n",
       "      <td>59.000000</td>\n",
       "      <td>57.000000</td>\n",
       "      <td>NaN</td>\n",
       "      <td>NaN</td>\n",
       "      <td>NaN</td>\n",
       "      <td>3.000000</td>\n",
       "      <td>20.000000</td>\n",
       "      <td>18096.000000</td>\n",
       "      <td>0.000000</td>\n",
       "    </tr>\n",
       "    <tr>\n",
       "      <th>max</th>\n",
       "      <td>50882.000000</td>\n",
       "      <td>NaN</td>\n",
       "      <td>6194.000000</td>\n",
       "      <td>NaN</td>\n",
       "      <td>NaN</td>\n",
       "      <td>75.000000</td>\n",
       "      <td>75.000000</td>\n",
       "      <td>NaN</td>\n",
       "      <td>NaN</td>\n",
       "      <td>NaN</td>\n",
       "      <td>4.000000</td>\n",
       "      <td>22.000000</td>\n",
       "      <td>43350.400000</td>\n",
       "      <td>1.000000</td>\n",
       "    </tr>\n",
       "  </tbody>\n",
       "</table>\n",
       "</div>"
      ],
      "text/plain": [
       "                  ID City_Code   Region_Code Accomodation_Type  \\\n",
       "count   50882.000000     50882  50882.000000             50882   \n",
       "unique           NaN        36           NaN                 2   \n",
       "top              NaN        C1           NaN             Owned   \n",
       "freq             NaN      8973           NaN             27951   \n",
       "mean    25441.500000       NaN   1732.788707               NaN   \n",
       "std     14688.512535       NaN   1424.081652               NaN   \n",
       "min         1.000000       NaN      1.000000               NaN   \n",
       "25%     12721.250000       NaN    523.000000               NaN   \n",
       "50%     25441.500000       NaN   1391.000000               NaN   \n",
       "75%     38161.750000       NaN   2667.000000               NaN   \n",
       "max     50882.000000       NaN   6194.000000               NaN   \n",
       "\n",
       "       Reco_Insurance_Type     Upper_Age     Lower_Age Is_Spouse  \\\n",
       "count                50882  50882.000000  50882.000000     50882   \n",
       "unique                   2           NaN           NaN         2   \n",
       "top             Individual           NaN           NaN        No   \n",
       "freq                 40536           NaN           NaN     42460   \n",
       "mean                   NaN     44.856275     42.738866       NaN   \n",
       "std                    NaN     17.310271     17.319375       NaN   \n",
       "min                    NaN     18.000000     16.000000       NaN   \n",
       "25%                    NaN     28.000000     27.000000       NaN   \n",
       "50%                    NaN     44.000000     40.000000       NaN   \n",
       "75%                    NaN     59.000000     57.000000       NaN   \n",
       "max                    NaN     75.000000     75.000000       NaN   \n",
       "\n",
       "       Health Indicator Holding_Policy_Duration  Holding_Policy_Type  \\\n",
       "count             39191                   30631         30631.000000   \n",
       "unique                9                      15                  NaN   \n",
       "top                  X1                     1.0                  NaN   \n",
       "freq              13010                    4499                  NaN   \n",
       "mean                NaN                     NaN             2.439228   \n",
       "std                 NaN                     NaN             1.025923   \n",
       "min                 NaN                     NaN             1.000000   \n",
       "25%                 NaN                     NaN             1.000000   \n",
       "50%                 NaN                     NaN             3.000000   \n",
       "75%                 NaN                     NaN             3.000000   \n",
       "max                 NaN                     NaN             4.000000   \n",
       "\n",
       "        Reco_Policy_Cat  Reco_Policy_Premium      Response  \n",
       "count      50882.000000         50882.000000  50882.000000  \n",
       "unique              NaN                  NaN           NaN  \n",
       "top                 NaN                  NaN           NaN  \n",
       "freq                NaN                  NaN           NaN  \n",
       "mean          15.115188         14183.950069      0.239947  \n",
       "std            6.340663          6590.074873      0.427055  \n",
       "min            1.000000          2280.000000      0.000000  \n",
       "25%           12.000000          9248.000000      0.000000  \n",
       "50%           17.000000         13178.000000      0.000000  \n",
       "75%           20.000000         18096.000000      0.000000  \n",
       "max           22.000000         43350.400000      1.000000  "
      ]
     },
     "execution_count": 8,
     "metadata": {},
     "output_type": "execute_result"
    }
   ],
   "source": [
    "#checking statistics\n",
    "health_train.describe(include='all')"
   ]
  },
  {
   "cell_type": "code",
   "execution_count": 9,
   "metadata": {
    "ExecuteTime": {
     "end_time": "2021-02-28T13:49:21.795679Z",
     "start_time": "2021-02-28T13:49:21.541218Z"
    }
   },
   "outputs": [
    {
     "data": {
      "text/html": [
       "<div>\n",
       "<style scoped>\n",
       "    .dataframe tbody tr th:only-of-type {\n",
       "        vertical-align: middle;\n",
       "    }\n",
       "\n",
       "    .dataframe tbody tr th {\n",
       "        vertical-align: top;\n",
       "    }\n",
       "\n",
       "    .dataframe thead th {\n",
       "        text-align: right;\n",
       "    }\n",
       "</style>\n",
       "<table border=\"1\" class=\"dataframe\">\n",
       "  <thead>\n",
       "    <tr style=\"text-align: right;\">\n",
       "      <th></th>\n",
       "      <th>ID</th>\n",
       "      <th>City_Code</th>\n",
       "      <th>Region_Code</th>\n",
       "      <th>Accomodation_Type</th>\n",
       "      <th>Reco_Insurance_Type</th>\n",
       "      <th>Upper_Age</th>\n",
       "      <th>Lower_Age</th>\n",
       "      <th>Is_Spouse</th>\n",
       "      <th>Health Indicator</th>\n",
       "      <th>Holding_Policy_Duration</th>\n",
       "      <th>Holding_Policy_Type</th>\n",
       "      <th>Reco_Policy_Cat</th>\n",
       "      <th>Reco_Policy_Premium</th>\n",
       "    </tr>\n",
       "  </thead>\n",
       "  <tbody>\n",
       "    <tr>\n",
       "      <th>count</th>\n",
       "      <td>21805.000000</td>\n",
       "      <td>21805</td>\n",
       "      <td>21805.000000</td>\n",
       "      <td>21805</td>\n",
       "      <td>21805</td>\n",
       "      <td>21805.000000</td>\n",
       "      <td>21805.000000</td>\n",
       "      <td>21805</td>\n",
       "      <td>16778</td>\n",
       "      <td>13202</td>\n",
       "      <td>13202.000000</td>\n",
       "      <td>21805.000000</td>\n",
       "      <td>21805.000000</td>\n",
       "    </tr>\n",
       "    <tr>\n",
       "      <th>unique</th>\n",
       "      <td>NaN</td>\n",
       "      <td>36</td>\n",
       "      <td>NaN</td>\n",
       "      <td>2</td>\n",
       "      <td>2</td>\n",
       "      <td>NaN</td>\n",
       "      <td>NaN</td>\n",
       "      <td>2</td>\n",
       "      <td>9</td>\n",
       "      <td>15</td>\n",
       "      <td>NaN</td>\n",
       "      <td>NaN</td>\n",
       "      <td>NaN</td>\n",
       "    </tr>\n",
       "    <tr>\n",
       "      <th>top</th>\n",
       "      <td>NaN</td>\n",
       "      <td>C1</td>\n",
       "      <td>NaN</td>\n",
       "      <td>Owned</td>\n",
       "      <td>Individual</td>\n",
       "      <td>NaN</td>\n",
       "      <td>NaN</td>\n",
       "      <td>No</td>\n",
       "      <td>X1</td>\n",
       "      <td>14+</td>\n",
       "      <td>NaN</td>\n",
       "      <td>NaN</td>\n",
       "      <td>NaN</td>\n",
       "    </tr>\n",
       "    <tr>\n",
       "      <th>freq</th>\n",
       "      <td>NaN</td>\n",
       "      <td>3789</td>\n",
       "      <td>NaN</td>\n",
       "      <td>12090</td>\n",
       "      <td>17341</td>\n",
       "      <td>NaN</td>\n",
       "      <td>NaN</td>\n",
       "      <td>18227</td>\n",
       "      <td>5614</td>\n",
       "      <td>1892</td>\n",
       "      <td>NaN</td>\n",
       "      <td>NaN</td>\n",
       "      <td>NaN</td>\n",
       "    </tr>\n",
       "    <tr>\n",
       "      <th>mean</th>\n",
       "      <td>61785.000000</td>\n",
       "      <td>NaN</td>\n",
       "      <td>1748.737491</td>\n",
       "      <td>NaN</td>\n",
       "      <td>NaN</td>\n",
       "      <td>44.877734</td>\n",
       "      <td>42.748085</td>\n",
       "      <td>NaN</td>\n",
       "      <td>NaN</td>\n",
       "      <td>NaN</td>\n",
       "      <td>2.440085</td>\n",
       "      <td>15.138363</td>\n",
       "      <td>14220.306581</td>\n",
       "    </tr>\n",
       "    <tr>\n",
       "      <th>std</th>\n",
       "      <td>6294.705646</td>\n",
       "      <td>NaN</td>\n",
       "      <td>1438.358949</td>\n",
       "      <td>NaN</td>\n",
       "      <td>NaN</td>\n",
       "      <td>17.254898</td>\n",
       "      <td>17.269112</td>\n",
       "      <td>NaN</td>\n",
       "      <td>NaN</td>\n",
       "      <td>NaN</td>\n",
       "      <td>1.037627</td>\n",
       "      <td>6.302805</td>\n",
       "      <td>6497.996164</td>\n",
       "    </tr>\n",
       "    <tr>\n",
       "      <th>min</th>\n",
       "      <td>50883.000000</td>\n",
       "      <td>NaN</td>\n",
       "      <td>1.000000</td>\n",
       "      <td>NaN</td>\n",
       "      <td>NaN</td>\n",
       "      <td>18.000000</td>\n",
       "      <td>16.000000</td>\n",
       "      <td>NaN</td>\n",
       "      <td>NaN</td>\n",
       "      <td>NaN</td>\n",
       "      <td>1.000000</td>\n",
       "      <td>1.000000</td>\n",
       "      <td>2152.000000</td>\n",
       "    </tr>\n",
       "    <tr>\n",
       "      <th>25%</th>\n",
       "      <td>56334.000000</td>\n",
       "      <td>NaN</td>\n",
       "      <td>535.000000</td>\n",
       "      <td>NaN</td>\n",
       "      <td>NaN</td>\n",
       "      <td>28.000000</td>\n",
       "      <td>27.000000</td>\n",
       "      <td>NaN</td>\n",
       "      <td>NaN</td>\n",
       "      <td>NaN</td>\n",
       "      <td>1.000000</td>\n",
       "      <td>12.000000</td>\n",
       "      <td>9285.000000</td>\n",
       "    </tr>\n",
       "    <tr>\n",
       "      <th>50%</th>\n",
       "      <td>61785.000000</td>\n",
       "      <td>NaN</td>\n",
       "      <td>1392.000000</td>\n",
       "      <td>NaN</td>\n",
       "      <td>NaN</td>\n",
       "      <td>44.000000</td>\n",
       "      <td>41.000000</td>\n",
       "      <td>NaN</td>\n",
       "      <td>NaN</td>\n",
       "      <td>NaN</td>\n",
       "      <td>3.000000</td>\n",
       "      <td>17.000000</td>\n",
       "      <td>13244.000000</td>\n",
       "    </tr>\n",
       "    <tr>\n",
       "      <th>75%</th>\n",
       "      <td>67236.000000</td>\n",
       "      <td>NaN</td>\n",
       "      <td>2712.000000</td>\n",
       "      <td>NaN</td>\n",
       "      <td>NaN</td>\n",
       "      <td>59.000000</td>\n",
       "      <td>57.000000</td>\n",
       "      <td>NaN</td>\n",
       "      <td>NaN</td>\n",
       "      <td>NaN</td>\n",
       "      <td>3.000000</td>\n",
       "      <td>20.000000</td>\n",
       "      <td>18201.600000</td>\n",
       "    </tr>\n",
       "    <tr>\n",
       "      <th>max</th>\n",
       "      <td>72687.000000</td>\n",
       "      <td>NaN</td>\n",
       "      <td>6185.000000</td>\n",
       "      <td>NaN</td>\n",
       "      <td>NaN</td>\n",
       "      <td>75.000000</td>\n",
       "      <td>75.000000</td>\n",
       "      <td>NaN</td>\n",
       "      <td>NaN</td>\n",
       "      <td>NaN</td>\n",
       "      <td>4.000000</td>\n",
       "      <td>22.000000</td>\n",
       "      <td>43776.000000</td>\n",
       "    </tr>\n",
       "  </tbody>\n",
       "</table>\n",
       "</div>"
      ],
      "text/plain": [
       "                  ID City_Code   Region_Code Accomodation_Type  \\\n",
       "count   21805.000000     21805  21805.000000             21805   \n",
       "unique           NaN        36           NaN                 2   \n",
       "top              NaN        C1           NaN             Owned   \n",
       "freq             NaN      3789           NaN             12090   \n",
       "mean    61785.000000       NaN   1748.737491               NaN   \n",
       "std      6294.705646       NaN   1438.358949               NaN   \n",
       "min     50883.000000       NaN      1.000000               NaN   \n",
       "25%     56334.000000       NaN    535.000000               NaN   \n",
       "50%     61785.000000       NaN   1392.000000               NaN   \n",
       "75%     67236.000000       NaN   2712.000000               NaN   \n",
       "max     72687.000000       NaN   6185.000000               NaN   \n",
       "\n",
       "       Reco_Insurance_Type     Upper_Age     Lower_Age Is_Spouse  \\\n",
       "count                21805  21805.000000  21805.000000     21805   \n",
       "unique                   2           NaN           NaN         2   \n",
       "top             Individual           NaN           NaN        No   \n",
       "freq                 17341           NaN           NaN     18227   \n",
       "mean                   NaN     44.877734     42.748085       NaN   \n",
       "std                    NaN     17.254898     17.269112       NaN   \n",
       "min                    NaN     18.000000     16.000000       NaN   \n",
       "25%                    NaN     28.000000     27.000000       NaN   \n",
       "50%                    NaN     44.000000     41.000000       NaN   \n",
       "75%                    NaN     59.000000     57.000000       NaN   \n",
       "max                    NaN     75.000000     75.000000       NaN   \n",
       "\n",
       "       Health Indicator Holding_Policy_Duration  Holding_Policy_Type  \\\n",
       "count             16778                   13202         13202.000000   \n",
       "unique                9                      15                  NaN   \n",
       "top                  X1                     14+                  NaN   \n",
       "freq               5614                    1892                  NaN   \n",
       "mean                NaN                     NaN             2.440085   \n",
       "std                 NaN                     NaN             1.037627   \n",
       "min                 NaN                     NaN             1.000000   \n",
       "25%                 NaN                     NaN             1.000000   \n",
       "50%                 NaN                     NaN             3.000000   \n",
       "75%                 NaN                     NaN             3.000000   \n",
       "max                 NaN                     NaN             4.000000   \n",
       "\n",
       "        Reco_Policy_Cat  Reco_Policy_Premium  \n",
       "count      21805.000000         21805.000000  \n",
       "unique              NaN                  NaN  \n",
       "top                 NaN                  NaN  \n",
       "freq                NaN                  NaN  \n",
       "mean          15.138363         14220.306581  \n",
       "std            6.302805          6497.996164  \n",
       "min            1.000000          2152.000000  \n",
       "25%           12.000000          9285.000000  \n",
       "50%           17.000000         13244.000000  \n",
       "75%           20.000000         18201.600000  \n",
       "max           22.000000         43776.000000  "
      ]
     },
     "execution_count": 9,
     "metadata": {},
     "output_type": "execute_result"
    }
   ],
   "source": [
    "health_test.describe(include='all')"
   ]
  },
  {
   "cell_type": "code",
   "execution_count": 10,
   "metadata": {
    "ExecuteTime": {
     "end_time": "2021-02-28T13:49:21.932949Z",
     "start_time": "2021-02-28T13:49:21.801770Z"
    }
   },
   "outputs": [
    {
     "data": {
      "text/plain": [
       "ID                         50882\n",
       "City_Code                     36\n",
       "Region_Code                 5316\n",
       "Accomodation_Type              2\n",
       "Reco_Insurance_Type            2\n",
       "Upper_Age                     58\n",
       "Lower_Age                     60\n",
       "Is_Spouse                      2\n",
       "Health Indicator               9\n",
       "Holding_Policy_Duration       15\n",
       "Holding_Policy_Type            4\n",
       "Reco_Policy_Cat               22\n",
       "Reco_Policy_Premium         6977\n",
       "Response                       2\n",
       "dtype: int64"
      ]
     },
     "execution_count": 10,
     "metadata": {},
     "output_type": "execute_result"
    }
   ],
   "source": [
    "#checking for unique values of each feature\n",
    "health_train.nunique()"
   ]
  },
  {
   "cell_type": "code",
   "execution_count": 11,
   "metadata": {
    "ExecuteTime": {
     "end_time": "2021-02-28T13:49:22.007873Z",
     "start_time": "2021-02-28T13:49:21.935727Z"
    }
   },
   "outputs": [
    {
     "data": {
      "text/plain": [
       "ID                         21805\n",
       "City_Code                     36\n",
       "Region_Code                 4694\n",
       "Accomodation_Type              2\n",
       "Reco_Insurance_Type            2\n",
       "Upper_Age                     58\n",
       "Lower_Age                     60\n",
       "Is_Spouse                      2\n",
       "Health Indicator               9\n",
       "Holding_Policy_Duration       15\n",
       "Holding_Policy_Type            4\n",
       "Reco_Policy_Cat               22\n",
       "Reco_Policy_Premium         5226\n",
       "dtype: int64"
      ]
     },
     "execution_count": 11,
     "metadata": {},
     "output_type": "execute_result"
    }
   ],
   "source": [
    "health_test.nunique()"
   ]
  },
  {
   "cell_type": "code",
   "execution_count": 12,
   "metadata": {
    "ExecuteTime": {
     "end_time": "2021-02-28T13:49:22.115036Z",
     "start_time": "2021-02-28T13:49:22.011994Z"
    }
   },
   "outputs": [
    {
     "data": {
      "text/plain": [
       "ID                             0\n",
       "City_Code                      0\n",
       "Region_Code                    0\n",
       "Accomodation_Type              0\n",
       "Reco_Insurance_Type            0\n",
       "Upper_Age                      0\n",
       "Lower_Age                      0\n",
       "Is_Spouse                      0\n",
       "Health Indicator           11691\n",
       "Holding_Policy_Duration    20251\n",
       "Holding_Policy_Type        20251\n",
       "Reco_Policy_Cat                0\n",
       "Reco_Policy_Premium            0\n",
       "Response                       0\n",
       "dtype: int64"
      ]
     },
     "execution_count": 12,
     "metadata": {},
     "output_type": "execute_result"
    }
   ],
   "source": [
    "#checking for missing values\n",
    "health_train.isnull().sum()"
   ]
  },
  {
   "cell_type": "code",
   "execution_count": 13,
   "metadata": {
    "ExecuteTime": {
     "end_time": "2021-02-28T13:49:22.177225Z",
     "start_time": "2021-02-28T13:49:22.117896Z"
    }
   },
   "outputs": [
    {
     "data": {
      "text/plain": [
       "ID                           int64\n",
       "City_Code                   object\n",
       "Region_Code                  int64\n",
       "Accomodation_Type           object\n",
       "Reco_Insurance_Type         object\n",
       "Upper_Age                    int64\n",
       "Lower_Age                    int64\n",
       "Is_Spouse                   object\n",
       "Health Indicator            object\n",
       "Holding_Policy_Duration     object\n",
       "Holding_Policy_Type        float64\n",
       "Reco_Policy_Cat              int64\n",
       "Reco_Policy_Premium        float64\n",
       "Response                     int64\n",
       "dtype: object"
      ]
     },
     "execution_count": 13,
     "metadata": {},
     "output_type": "execute_result"
    }
   ],
   "source": [
    "health_train.dtypes"
   ]
  },
  {
   "cell_type": "code",
   "execution_count": 14,
   "metadata": {
    "ExecuteTime": {
     "end_time": "2021-02-28T13:49:22.207626Z",
     "start_time": "2021-02-28T13:49:22.180382Z"
    },
    "scrolled": true
   },
   "outputs": [],
   "source": [
    "health_train = health_train.drop(columns=['Health Indicator','Holding_Policy_Duration','Holding_Policy_Type','City_Code','Region_Code'])"
   ]
  },
  {
   "cell_type": "code",
   "execution_count": 15,
   "metadata": {
    "ExecuteTime": {
     "end_time": "2021-02-28T13:49:22.268719Z",
     "start_time": "2021-02-28T13:49:22.210585Z"
    }
   },
   "outputs": [],
   "source": [
    "health_test = health_test.drop(columns=['Health Indicator','Holding_Policy_Duration','Holding_Policy_Type','City_Code','Region_Code'])"
   ]
  },
  {
   "cell_type": "code",
   "execution_count": 16,
   "metadata": {
    "ExecuteTime": {
     "end_time": "2021-02-28T13:49:22.315141Z",
     "start_time": "2021-02-28T13:49:22.272709Z"
    }
   },
   "outputs": [
    {
     "data": {
      "text/plain": [
       "ID                     0\n",
       "Accomodation_Type      0\n",
       "Reco_Insurance_Type    0\n",
       "Upper_Age              0\n",
       "Lower_Age              0\n",
       "Is_Spouse              0\n",
       "Reco_Policy_Cat        0\n",
       "Reco_Policy_Premium    0\n",
       "dtype: int64"
      ]
     },
     "execution_count": 16,
     "metadata": {},
     "output_type": "execute_result"
    }
   ],
   "source": [
    "health_test.isnull().sum()"
   ]
  },
  {
   "cell_type": "code",
   "execution_count": null,
   "metadata": {},
   "outputs": [],
   "source": []
  },
  {
   "cell_type": "markdown",
   "metadata": {},
   "source": [
    "We will be imputing missing values after performing EDA."
   ]
  },
  {
   "cell_type": "code",
   "execution_count": 17,
   "metadata": {
    "ExecuteTime": {
     "end_time": "2021-02-28T13:49:22.330613Z",
     "start_time": "2021-02-28T13:49:22.318529Z"
    }
   },
   "outputs": [
    {
     "data": {
      "text/plain": [
       "Index(['ID', 'Accomodation_Type', 'Reco_Insurance_Type', 'Upper_Age',\n",
       "       'Lower_Age', 'Is_Spouse', 'Reco_Policy_Cat', 'Reco_Policy_Premium',\n",
       "       'Response'],\n",
       "      dtype='object')"
      ]
     },
     "execution_count": 17,
     "metadata": {},
     "output_type": "execute_result"
    }
   ],
   "source": [
    "health_train.columns"
   ]
  },
  {
   "cell_type": "markdown",
   "metadata": {
    "ExecuteTime": {
     "end_time": "2021-02-26T17:24:11.441913Z",
     "start_time": "2021-02-26T17:24:11.427336Z"
    }
   },
   "source": [
    "## EDA\n",
    "We will be performing Bivariate Analysis"
   ]
  },
  {
   "cell_type": "markdown",
   "metadata": {
    "ExecuteTime": {
     "end_time": "2021-02-26T11:45:06.500774Z",
     "start_time": "2021-02-26T11:45:06.489802Z"
    }
   },
   "source": [
    "### Accomodation_Type"
   ]
  },
  {
   "cell_type": "code",
   "execution_count": 18,
   "metadata": {
    "ExecuteTime": {
     "end_time": "2021-02-28T13:49:23.762088Z",
     "start_time": "2021-02-28T13:49:22.333526Z"
    }
   },
   "outputs": [
    {
     "data": {
      "image/png": "[encoded data removed]",
      "text/plain": [
       "<Figure size 432x288 with 1 Axes>"
      ]
     },
     "metadata": {
      "needs_background": "light"
     },
     "output_type": "display_data"
    }
   ],
   "source": [
    "sns.countplot(x='Accomodation_Type',hue='Response',data=health_train);"
   ]
  },
  {
   "cell_type": "markdown",
   "metadata": {
    "ExecuteTime": {
     "end_time": "2021-02-26T17:25:31.174701Z",
     "start_time": "2021-02-26T17:25:31.170683Z"
    }
   },
   "source": [
    "### Reco_Insurance_Type"
   ]
  },
  {
   "cell_type": "code",
   "execution_count": 19,
   "metadata": {
    "ExecuteTime": {
     "end_time": "2021-02-28T13:49:24.607089Z",
     "start_time": "2021-02-28T13:49:23.765539Z"
    }
   },
   "outputs": [
    {
     "data": {
      "text/plain": [
       "<AxesSubplot:xlabel='Reco_Insurance_Type', ylabel='count'>"
      ]
     },
     "execution_count": 19,
     "metadata": {},
     "output_type": "execute_result"
    },
    {
     "data": {
      "image/png": "[encoded data removed]",
      "text/plain": [
       "<Figure size 432x288 with 1 Axes>"
      ]
     },
     "metadata": {
      "needs_background": "light"
     },
     "output_type": "display_data"
    }
   ],
   "source": [
    "sns.countplot(x='Reco_Insurance_Type', hue='Response',data=health_train)"
   ]
  },
  {
   "cell_type": "markdown",
   "metadata": {
    "ExecuteTime": {
     "end_time": "2021-02-26T17:27:03.750179Z",
     "start_time": "2021-02-26T17:27:03.738211Z"
    }
   },
   "source": [
    "### Upper_Age"
   ]
  },
  {
   "cell_type": "code",
   "execution_count": 20,
   "metadata": {
    "ExecuteTime": {
     "end_time": "2021-02-28T13:49:25.207463Z",
     "start_time": "2021-02-28T13:49:24.610081Z"
    }
   },
   "outputs": [
    {
     "data": {
      "text/plain": [
       "<AxesSubplot:xlabel='Response', ylabel='Upper_Age'>"
      ]
     },
     "execution_count": 20,
     "metadata": {},
     "output_type": "execute_result"
    },
    {
     "data": {
      "image/png": "[encoded data removed]",
      "text/plain": [
       "<Figure size 432x288 with 1 Axes>"
      ]
     },
     "metadata": {
      "needs_background": "light"
     },
     "output_type": "display_data"
    }
   ],
   "source": [
    "sns.boxplot(y='Upper_Age', x='Response',data=health_train)"
   ]
  },
  {
   "cell_type": "markdown",
   "metadata": {
    "ExecuteTime": {
     "end_time": "2021-02-26T18:18:05.578238Z",
     "start_time": "2021-02-26T18:18:05.574352Z"
    }
   },
   "source": [
    "### Lower_Age"
   ]
  },
  {
   "cell_type": "code",
   "execution_count": 21,
   "metadata": {
    "ExecuteTime": {
     "end_time": "2021-02-28T13:49:25.775309Z",
     "start_time": "2021-02-28T13:49:25.210455Z"
    }
   },
   "outputs": [
    {
     "data": {
      "text/plain": [
       "<AxesSubplot:xlabel='Response', ylabel='Lower_Age'>"
      ]
     },
     "execution_count": 21,
     "metadata": {},
     "output_type": "execute_result"
    },
    {
     "data": {
      "image/png": "[encoded data removed]",
      "text/plain": [
       "<Figure size 432x288 with 1 Axes>"
      ]
     },
     "metadata": {
      "needs_background": "light"
     },
     "output_type": "display_data"
    }
   ],
   "source": [
    "sns.boxplot(y='Lower_Age', x='Response',data=health_train)"
   ]
  },
  {
   "cell_type": "markdown",
   "metadata": {
    "ExecuteTime": {
     "end_time": "2021-02-26T18:18:23.959203Z",
     "start_time": "2021-02-26T18:18:23.941578Z"
    }
   },
   "source": [
    "### Is_Spouse"
   ]
  },
  {
   "cell_type": "code",
   "execution_count": 22,
   "metadata": {
    "ExecuteTime": {
     "end_time": "2021-02-28T13:49:26.591337Z",
     "start_time": "2021-02-28T13:49:25.778923Z"
    }
   },
   "outputs": [
    {
     "data": {
      "text/plain": [
       "<AxesSubplot:xlabel='Is_Spouse', ylabel='count'>"
      ]
     },
     "execution_count": 22,
     "metadata": {},
     "output_type": "execute_result"
    },
    {
     "data": {
      "image/png": "[encoded data removed]",
      "text/plain": [
       "<Figure size 432x288 with 1 Axes>"
      ]
     },
     "metadata": {
      "needs_background": "light"
     },
     "output_type": "display_data"
    }
   ],
   "source": [
    "sns.countplot(x='Is_Spouse', hue='Response',data=health_train)"
   ]
  },
  {
   "cell_type": "markdown",
   "metadata": {
    "ExecuteTime": {
     "end_time": "2021-02-26T18:36:57.809427Z",
     "start_time": "2021-02-26T18:36:57.796593Z"
    }
   },
   "source": [
    "### Reco_Policy_Cat"
   ]
  },
  {
   "cell_type": "code",
   "execution_count": 23,
   "metadata": {
    "ExecuteTime": {
     "end_time": "2021-02-28T13:49:27.842803Z",
     "start_time": "2021-02-28T13:49:26.594329Z"
    }
   },
   "outputs": [
    {
     "data": {
      "image/png": "[encoded data removed]",
      "text/plain": [
       "<Figure size 1296x648 with 1 Axes>"
      ]
     },
     "metadata": {
      "needs_background": "light"
     },
     "output_type": "display_data"
    }
   ],
   "source": [
    "f,ax=plt.subplots(figsize=(18,9))\n",
    "g=sns.countplot(x='Reco_Policy_Cat',hue='Response',data=health_train);\n",
    "#ax.set_xticklabels(ax.get_xticklabels(),rotation=30);"
   ]
  },
  {
   "cell_type": "markdown",
   "metadata": {
    "ExecuteTime": {
     "end_time": "2021-02-26T19:40:16.758656Z",
     "start_time": "2021-02-26T19:40:16.746240Z"
    }
   },
   "source": [
    "### Response (univariate)"
   ]
  },
  {
   "cell_type": "code",
   "execution_count": 24,
   "metadata": {
    "ExecuteTime": {
     "end_time": "2021-02-28T13:49:28.226360Z",
     "start_time": "2021-02-28T13:49:27.845796Z"
    }
   },
   "outputs": [
    {
     "data": {
      "image/png": "[encoded data removed]",
      "text/plain": [
       "<Figure size 432x288 with 1 Axes>"
      ]
     },
     "metadata": {
      "needs_background": "light"
     },
     "output_type": "display_data"
    }
   ],
   "source": [
    "sns.countplot(x='Response',data= health_train);"
   ]
  },
  {
   "cell_type": "code",
   "execution_count": 25,
   "metadata": {
    "ExecuteTime": {
     "end_time": "2021-02-28T13:49:28.272975Z",
     "start_time": "2021-02-28T13:49:28.229458Z"
    }
   },
   "outputs": [
    {
     "data": {
      "text/plain": [
       "ID                       int64\n",
       "Accomodation_Type       object\n",
       "Reco_Insurance_Type     object\n",
       "Upper_Age                int64\n",
       "Lower_Age                int64\n",
       "Is_Spouse               object\n",
       "Reco_Policy_Cat          int64\n",
       "Reco_Policy_Premium    float64\n",
       "Response                 int64\n",
       "dtype: object"
      ]
     },
     "execution_count": 25,
     "metadata": {},
     "output_type": "execute_result"
    }
   ],
   "source": [
    "health_train.dtypes"
   ]
  },
  {
   "cell_type": "code",
   "execution_count": 26,
   "metadata": {
    "ExecuteTime": {
     "end_time": "2021-02-28T13:49:28.334067Z",
     "start_time": "2021-02-28T13:49:28.275967Z"
    }
   },
   "outputs": [],
   "source": [
    "#one hot encoding each categorical attribute\n",
    "dummy_tr_1=pd.get_dummies(health_train['Accomodation_Type'],drop_first=True,prefix='AT',prefix_sep='_')\n",
    "dummy_tr_2=pd.get_dummies(health_train['Reco_Insurance_Type'],drop_first=True,prefix='RIT',prefix_sep='_')\n",
    "dummy_tr_3=pd.get_dummies(health_train['Is_Spouse'],drop_first=True,prefix='IS',prefix_sep='_')"
   ]
  },
  {
   "cell_type": "code",
   "execution_count": 27,
   "metadata": {
    "ExecuteTime": {
     "end_time": "2021-02-28T13:49:28.381006Z",
     "start_time": "2021-02-28T13:49:28.341323Z"
    }
   },
   "outputs": [],
   "source": [
    "dummy_ts_1=pd.get_dummies(health_test['Accomodation_Type'],drop_first=True,prefix='AT',prefix_sep='_')\n",
    "dummy_ts_2=pd.get_dummies(health_test['Reco_Insurance_Type'],drop_first=True,prefix='RIT',prefix_sep='_')\n",
    "dummy_ts_3=pd.get_dummies(health_test['Is_Spouse'],drop_first=True,prefix='IS',prefix_sep='_')"
   ]
  },
  {
   "cell_type": "code",
   "execution_count": 28,
   "metadata": {
    "ExecuteTime": {
     "end_time": "2021-02-28T13:49:28.411127Z",
     "start_time": "2021-02-28T13:49:28.384999Z"
    }
   },
   "outputs": [],
   "source": [
    "#concatenating one hot encoded attributes with original train set\n",
    "health_train=pd.concat([health_train,dummy_tr_1,dummy_tr_2,dummy_tr_3],axis=1)"
   ]
  },
  {
   "cell_type": "code",
   "execution_count": 29,
   "metadata": {
    "ExecuteTime": {
     "end_time": "2021-02-28T13:49:28.442541Z",
     "start_time": "2021-02-28T13:49:28.414360Z"
    }
   },
   "outputs": [],
   "source": [
    "health_test=pd.concat([health_test,dummy_ts_1,dummy_ts_2,dummy_ts_3],axis=1)\n"
   ]
  },
  {
   "cell_type": "code",
   "execution_count": 30,
   "metadata": {
    "ExecuteTime": {
     "end_time": "2021-02-28T13:49:28.520454Z",
     "start_time": "2021-02-28T13:49:28.446195Z"
    }
   },
   "outputs": [
    {
     "data": {
      "text/html": [
       "<div>\n",
       "<style scoped>\n",
       "    .dataframe tbody tr th:only-of-type {\n",
       "        vertical-align: middle;\n",
       "    }\n",
       "\n",
       "    .dataframe tbody tr th {\n",
       "        vertical-align: top;\n",
       "    }\n",
       "\n",
       "    .dataframe thead th {\n",
       "        text-align: right;\n",
       "    }\n",
       "</style>\n",
       "<table border=\"1\" class=\"dataframe\">\n",
       "  <thead>\n",
       "    <tr style=\"text-align: right;\">\n",
       "      <th></th>\n",
       "      <th>ID</th>\n",
       "      <th>Accomodation_Type</th>\n",
       "      <th>Reco_Insurance_Type</th>\n",
       "      <th>Upper_Age</th>\n",
       "      <th>Lower_Age</th>\n",
       "      <th>Is_Spouse</th>\n",
       "      <th>Reco_Policy_Cat</th>\n",
       "      <th>Reco_Policy_Premium</th>\n",
       "      <th>Response</th>\n",
       "      <th>AT_Rented</th>\n",
       "      <th>RIT_Joint</th>\n",
       "      <th>IS_Yes</th>\n",
       "    </tr>\n",
       "  </thead>\n",
       "  <tbody>\n",
       "    <tr>\n",
       "      <th>0</th>\n",
       "      <td>1</td>\n",
       "      <td>Rented</td>\n",
       "      <td>Individual</td>\n",
       "      <td>36</td>\n",
       "      <td>36</td>\n",
       "      <td>No</td>\n",
       "      <td>22</td>\n",
       "      <td>11628.0</td>\n",
       "      <td>0</td>\n",
       "      <td>1</td>\n",
       "      <td>0</td>\n",
       "      <td>0</td>\n",
       "    </tr>\n",
       "    <tr>\n",
       "      <th>1</th>\n",
       "      <td>2</td>\n",
       "      <td>Owned</td>\n",
       "      <td>Joint</td>\n",
       "      <td>75</td>\n",
       "      <td>22</td>\n",
       "      <td>No</td>\n",
       "      <td>22</td>\n",
       "      <td>30510.0</td>\n",
       "      <td>0</td>\n",
       "      <td>0</td>\n",
       "      <td>1</td>\n",
       "      <td>0</td>\n",
       "    </tr>\n",
       "    <tr>\n",
       "      <th>2</th>\n",
       "      <td>3</td>\n",
       "      <td>Owned</td>\n",
       "      <td>Individual</td>\n",
       "      <td>32</td>\n",
       "      <td>32</td>\n",
       "      <td>No</td>\n",
       "      <td>19</td>\n",
       "      <td>7450.0</td>\n",
       "      <td>1</td>\n",
       "      <td>0</td>\n",
       "      <td>0</td>\n",
       "      <td>0</td>\n",
       "    </tr>\n",
       "    <tr>\n",
       "      <th>3</th>\n",
       "      <td>4</td>\n",
       "      <td>Owned</td>\n",
       "      <td>Joint</td>\n",
       "      <td>52</td>\n",
       "      <td>48</td>\n",
       "      <td>No</td>\n",
       "      <td>19</td>\n",
       "      <td>17780.0</td>\n",
       "      <td>0</td>\n",
       "      <td>0</td>\n",
       "      <td>1</td>\n",
       "      <td>0</td>\n",
       "    </tr>\n",
       "    <tr>\n",
       "      <th>4</th>\n",
       "      <td>5</td>\n",
       "      <td>Rented</td>\n",
       "      <td>Individual</td>\n",
       "      <td>44</td>\n",
       "      <td>44</td>\n",
       "      <td>No</td>\n",
       "      <td>16</td>\n",
       "      <td>10404.0</td>\n",
       "      <td>0</td>\n",
       "      <td>1</td>\n",
       "      <td>0</td>\n",
       "      <td>0</td>\n",
       "    </tr>\n",
       "    <tr>\n",
       "      <th>...</th>\n",
       "      <td>...</td>\n",
       "      <td>...</td>\n",
       "      <td>...</td>\n",
       "      <td>...</td>\n",
       "      <td>...</td>\n",
       "      <td>...</td>\n",
       "      <td>...</td>\n",
       "      <td>...</td>\n",
       "      <td>...</td>\n",
       "      <td>...</td>\n",
       "      <td>...</td>\n",
       "      <td>...</td>\n",
       "    </tr>\n",
       "    <tr>\n",
       "      <th>50877</th>\n",
       "      <td>50878</td>\n",
       "      <td>Rented</td>\n",
       "      <td>Individual</td>\n",
       "      <td>22</td>\n",
       "      <td>22</td>\n",
       "      <td>No</td>\n",
       "      <td>18</td>\n",
       "      <td>7704.0</td>\n",
       "      <td>0</td>\n",
       "      <td>1</td>\n",
       "      <td>0</td>\n",
       "      <td>0</td>\n",
       "    </tr>\n",
       "    <tr>\n",
       "      <th>50878</th>\n",
       "      <td>50879</td>\n",
       "      <td>Rented</td>\n",
       "      <td>Individual</td>\n",
       "      <td>27</td>\n",
       "      <td>27</td>\n",
       "      <td>No</td>\n",
       "      <td>4</td>\n",
       "      <td>5408.0</td>\n",
       "      <td>0</td>\n",
       "      <td>1</td>\n",
       "      <td>0</td>\n",
       "      <td>0</td>\n",
       "    </tr>\n",
       "    <tr>\n",
       "      <th>50879</th>\n",
       "      <td>50880</td>\n",
       "      <td>Rented</td>\n",
       "      <td>Individual</td>\n",
       "      <td>63</td>\n",
       "      <td>63</td>\n",
       "      <td>No</td>\n",
       "      <td>12</td>\n",
       "      <td>11374.0</td>\n",
       "      <td>0</td>\n",
       "      <td>1</td>\n",
       "      <td>0</td>\n",
       "      <td>0</td>\n",
       "    </tr>\n",
       "    <tr>\n",
       "      <th>50880</th>\n",
       "      <td>50881</td>\n",
       "      <td>Owned</td>\n",
       "      <td>Joint</td>\n",
       "      <td>71</td>\n",
       "      <td>49</td>\n",
       "      <td>No</td>\n",
       "      <td>16</td>\n",
       "      <td>28179.2</td>\n",
       "      <td>1</td>\n",
       "      <td>0</td>\n",
       "      <td>1</td>\n",
       "      <td>0</td>\n",
       "    </tr>\n",
       "    <tr>\n",
       "      <th>50881</th>\n",
       "      <td>50882</td>\n",
       "      <td>Rented</td>\n",
       "      <td>Individual</td>\n",
       "      <td>24</td>\n",
       "      <td>24</td>\n",
       "      <td>No</td>\n",
       "      <td>18</td>\n",
       "      <td>11424.0</td>\n",
       "      <td>0</td>\n",
       "      <td>1</td>\n",
       "      <td>0</td>\n",
       "      <td>0</td>\n",
       "    </tr>\n",
       "  </tbody>\n",
       "</table>\n",
       "<p>50882 rows × 12 columns</p>\n",
       "</div>"
      ],
      "text/plain": [
       "          ID Accomodation_Type Reco_Insurance_Type  Upper_Age  Lower_Age  \\\n",
       "0          1            Rented          Individual         36         36   \n",
       "1          2             Owned               Joint         75         22   \n",
       "2          3             Owned          Individual         32         32   \n",
       "3          4             Owned               Joint         52         48   \n",
       "4          5            Rented          Individual         44         44   \n",
       "...      ...               ...                 ...        ...        ...   \n",
       "50877  50878            Rented          Individual         22         22   \n",
       "50878  50879            Rented          Individual         27         27   \n",
       "50879  50880            Rented          Individual         63         63   \n",
       "50880  50881             Owned               Joint         71         49   \n",
       "50881  50882            Rented          Individual         24         24   \n",
       "\n",
       "      Is_Spouse  Reco_Policy_Cat  Reco_Policy_Premium  Response  AT_Rented  \\\n",
       "0            No               22              11628.0         0          1   \n",
       "1            No               22              30510.0         0          0   \n",
       "2            No               19               7450.0         1          0   \n",
       "3            No               19              17780.0         0          0   \n",
       "4            No               16              10404.0         0          1   \n",
       "...         ...              ...                  ...       ...        ...   \n",
       "50877        No               18               7704.0         0          1   \n",
       "50878        No                4               5408.0         0          1   \n",
       "50879        No               12              11374.0         0          1   \n",
       "50880        No               16              28179.2         1          0   \n",
       "50881        No               18              11424.0         0          1   \n",
       "\n",
       "       RIT_Joint  IS_Yes  \n",
       "0              0       0  \n",
       "1              1       0  \n",
       "2              0       0  \n",
       "3              1       0  \n",
       "4              0       0  \n",
       "...          ...     ...  \n",
       "50877          0       0  \n",
       "50878          0       0  \n",
       "50879          0       0  \n",
       "50880          1       0  \n",
       "50881          0       0  \n",
       "\n",
       "[50882 rows x 12 columns]"
      ]
     },
     "execution_count": 30,
     "metadata": {},
     "output_type": "execute_result"
    }
   ],
   "source": [
    "health_train"
   ]
  },
  {
   "cell_type": "code",
   "execution_count": 31,
   "metadata": {
    "ExecuteTime": {
     "end_time": "2021-02-28T13:49:28.567250Z",
     "start_time": "2021-02-28T13:49:28.524114Z"
    }
   },
   "outputs": [],
   "source": [
    "health_train = health_train.drop(columns=['Accomodation_Type','Reco_Insurance_Type','Is_Spouse'])"
   ]
  },
  {
   "cell_type": "code",
   "execution_count": 32,
   "metadata": {
    "ExecuteTime": {
     "end_time": "2021-02-28T13:49:28.582374Z",
     "start_time": "2021-02-28T13:49:28.570295Z"
    }
   },
   "outputs": [],
   "source": [
    "health_test = health_test.drop(columns=['Accomodation_Type','Reco_Insurance_Type','Is_Spouse'])"
   ]
  },
  {
   "cell_type": "markdown",
   "metadata": {
    "ExecuteTime": {
     "end_time": "2021-02-27T18:42:37.207641Z",
     "start_time": "2021-02-27T18:42:37.203146Z"
    }
   },
   "source": [
    "## Assinging X and y"
   ]
  },
  {
   "cell_type": "code",
   "execution_count": 33,
   "metadata": {
    "ExecuteTime": {
     "end_time": "2021-02-28T13:49:28.613604Z",
     "start_time": "2021-02-28T13:49:28.585417Z"
    }
   },
   "outputs": [],
   "source": [
    "X = health_train.drop(columns=['ID','Response'])\n",
    "y = health_train['Response']\n",
    "\n",
    "test =health_test.drop(columns=['ID'])"
   ]
  },
  {
   "cell_type": "markdown",
   "metadata": {
    "ExecuteTime": {
     "end_time": "2021-02-27T18:43:11.684539Z",
     "start_time": "2021-02-27T18:43:11.667040Z"
    }
   },
   "source": [
    "## Train Validation Split"
   ]
  },
  {
   "cell_type": "code",
   "execution_count": 34,
   "metadata": {
    "ExecuteTime": {
     "end_time": "2021-02-28T13:49:28.736187Z",
     "start_time": "2021-02-28T13:49:28.617316Z"
    }
   },
   "outputs": [],
   "source": [
    "X_train,X_val,y_train,y_val=train_test_split(X,y,test_size=0.3,\n",
    "                                             random_state=77,stratify=y)"
   ]
  },
  {
   "cell_type": "code",
   "execution_count": 35,
   "metadata": {
    "ExecuteTime": {
     "end_time": "2021-02-28T13:49:28.766365Z",
     "start_time": "2021-02-28T13:49:28.739014Z"
    }
   },
   "outputs": [
    {
     "data": {
      "text/plain": [
       "0    0.760058\n",
       "1    0.239942\n",
       "Name: Response, dtype: float64"
      ]
     },
     "execution_count": 35,
     "metadata": {},
     "output_type": "execute_result"
    }
   ],
   "source": [
    "y_train.value_counts(normalize=True)"
   ]
  },
  {
   "cell_type": "code",
   "execution_count": 36,
   "metadata": {
    "ExecuteTime": {
     "end_time": "2021-02-28T13:49:28.829333Z",
     "start_time": "2021-02-28T13:49:28.769508Z"
    }
   },
   "outputs": [
    {
     "data": {
      "text/plain": [
       "0    0.760039\n",
       "1    0.239961\n",
       "Name: Response, dtype: float64"
      ]
     },
     "execution_count": 36,
     "metadata": {},
     "output_type": "execute_result"
    }
   ],
   "source": [
    "y_val.value_counts(normalize=True)"
   ]
  },
  {
   "cell_type": "markdown",
   "metadata": {
    "ExecuteTime": {
     "end_time": "2021-02-26T22:57:32.561156Z",
     "start_time": "2021-02-26T22:57:32.543185Z"
    }
   },
   "source": [
    "## Model Building"
   ]
  },
  {
   "cell_type": "markdown",
   "metadata": {
    "ExecuteTime": {
     "end_time": "2021-02-26T22:58:06.460869Z",
     "start_time": "2021-02-26T22:58:06.447108Z"
    }
   },
   "source": [
    "### Decision Tree"
   ]
  },
  {
   "cell_type": "code",
   "execution_count": 75,
   "metadata": {
    "ExecuteTime": {
     "end_time": "2021-02-28T07:50:46.991347Z",
     "start_time": "2021-02-28T07:49:56.691109Z"
    }
   },
   "outputs": [
    {
     "data": {
      "text/plain": [
       "{'class_weight': 'balanced',\n",
       " 'criterion': 'gini',\n",
       " 'max_depth': 9,\n",
       " 'max_features': None,\n",
       " 'splitter': 'best'}"
      ]
     },
     "execution_count": 75,
     "metadata": {},
     "output_type": "execute_result"
    }
   ],
   "source": [
    "DT_GS=DecisionTreeClassifier()\n",
    "\n",
    "f1=make_scorer(f1_score,average='macro')\n",
    "\n",
    "params_grid_DT={'criterion':['gini','entropy'], #2\n",
    "                'splitter':['best','random'], #2\n",
    "                'max_depth':[2,3,4,5,6,7,8,9,10], #9\n",
    "                'max_features':['auto','sqrt','log2',None], #4\n",
    "                'class_weight':[None,'balanced']} #2\n",
    "\n",
    "grid_search_DT=GridSearchCV(DT_GS,\n",
    "                            params_grid_DT,\n",
    "                            n_jobs=-1,\n",
    "                            cv=5, scoring=f1)\n",
    "grid_search_DT.fit(X_train,y_train)\n",
    "grid_search_DT.best_params_"
   ]
  },
  {
   "cell_type": "code",
   "execution_count": 76,
   "metadata": {
    "ExecuteTime": {
     "end_time": "2021-02-28T07:51:21.530893Z",
     "start_time": "2021-02-28T07:51:21.310923Z"
    }
   },
   "outputs": [
    {
     "name": "stdout",
     "output_type": "stream",
     "text": [
      "Train Accuracy\n",
      "60.134205575989\n",
      "Validation Accuracy\n",
      "58.820831968555524\n"
     ]
    }
   ],
   "source": [
    "Dt=DecisionTreeClassifier(max_depth=9,criterion='gini',class_weight='balanced',max_features=None,splitter='best')\n",
    "Dt.fit(X_train,y_train)\n",
    "\n",
    "y_pred_Dt_tr=Dt.predict(X_train)\n",
    "y_pred_Dt_val=Dt.predict(X_val)\n",
    "\n",
    "ac_Dt_tr=accuracy_score(y_train,y_pred_Dt_tr)\n",
    "ac_Dt_val=accuracy_score(y_val,y_pred_Dt_val)\n",
    "\n",
    "print('Train Accuracy')\n",
    "print(ac_Dt_tr*100)\n",
    "print('Validation Accuracy')\n",
    "print(ac_Dt_val*100)"
   ]
  },
  {
   "cell_type": "code",
   "execution_count": 79,
   "metadata": {
    "ExecuteTime": {
     "end_time": "2021-02-28T07:51:25.871382Z",
     "start_time": "2021-02-28T07:51:25.800573Z"
    }
   },
   "outputs": [],
   "source": [
    "prediction_Dt=Dt.predict(test)\n",
    "\n",
    "submission=pd.DataFrame({\"ID\":health_test[\"ID\"],\"Response\":prediction_Dt})\n",
    "submission.to_csv('sub_Dt.csv',index=False)"
   ]
  },
  {
   "cell_type": "markdown",
   "metadata": {
    "ExecuteTime": {
     "end_time": "2021-02-27T19:12:12.107822Z",
     "start_time": "2021-02-27T19:12:12.092014Z"
    }
   },
   "source": [
    "### XG Boost"
   ]
  },
  {
   "cell_type": "code",
   "execution_count": 80,
   "metadata": {
    "ExecuteTime": {
     "end_time": "2021-02-28T07:53:43.215366Z",
     "start_time": "2021-02-28T07:51:28.417839Z"
    }
   },
   "outputs": [
    {
     "name": "stdout",
     "output_type": "stream",
     "text": [
      "Train f1\n",
      "50.974475204392164\n",
      "Val_f1\n",
      "46.211765177356135\n"
     ]
    }
   ],
   "source": [
    "XGB=xgb.XGBClassifier()\n",
    "XGB.fit(X_train,y_train)\n",
    "\n",
    "y_pred_XGB_tr=XGB.predict(X_train)\n",
    "y_pred_XGB_val=XGB.predict(X_val)\n",
    "\n",
    "f1_XGB_tr=f1_score(y_train,y_pred_XGB_tr,average='macro')\n",
    "f1_XGB_val=f1_score(y_val,y_pred_XGB_val,average='macro')\n",
    "\n",
    "print('Train f1')\n",
    "print(f1_XGB_tr*100)\n",
    "print('Val_f1')\n",
    "print(f1_XGB_val*100)"
   ]
  },
  {
   "cell_type": "markdown",
   "metadata": {
    "ExecuteTime": {
     "start_time": "2021-02-28T13:41:06.411Z"
    }
   },
   "source": [
    "### Random Forest"
   ]
  },
  {
   "cell_type": "code",
   "execution_count": 83,
   "metadata": {
    "ExecuteTime": {
     "end_time": "2021-02-28T10:51:19.712420Z",
     "start_time": "2021-02-28T10:33:08.418051Z"
    }
   },
   "outputs": [
    {
     "data": {
      "text/plain": [
       "{'bootstrap': True,\n",
       " 'class_weight': 'balanced',\n",
       " 'criterion': 'gini',\n",
       " 'max_depth': 10,\n",
       " 'max_features': None}"
      ]
     },
     "execution_count": 83,
     "metadata": {},
     "output_type": "execute_result"
    }
   ],
   "source": [
    "RF_GS=RandomForestClassifier()\n",
    "\n",
    "f1=make_scorer(f1_score,average='macro')\n",
    "\n",
    "params_grid_RF={'criterion':['gini','entropy'], #2\n",
    "                'max_depth':[2,3,4,5,6,7,8,9,10], #9\n",
    "                'max_features':['auto','sqrt','log2',None], #4\n",
    "                'bootstrap':[True,False], #2\n",
    "                'class_weight':['balanced','balanced_subsample']} #2\n",
    "\n",
    "grid_search_RF=GridSearchCV(RF_GS,\n",
    "                            params_grid_RF,\n",
    "                            n_jobs=-1,\n",
    "                            cv=5,\n",
    "                            scoring=f1)\n",
    "grid_search_RF.fit(X_train,y_train)\n",
    "grid_search_RF.best_params_ # among 288"
   ]
  },
  {
   "cell_type": "code",
   "execution_count": 40,
   "metadata": {
    "ExecuteTime": {
     "end_time": "2021-02-28T13:55:04.879952Z",
     "start_time": "2021-02-28T13:52:35.926689Z"
    }
   },
   "outputs": [
    {
     "name": "stdout",
     "output_type": "stream",
     "text": [
      "Train f1\n",
      "57.964737002438746\n",
      "Val_f1\n",
      "53.9178394661984\n"
     ]
    }
   ],
   "source": [
    "RF=RandomForestClassifier(bootstrap =True, \n",
    "                          class_weight = 'balanced',\n",
    "                          criterion='gini', \n",
    "                          max_depth=10,\n",
    "                          max_features=None,\n",
    "                          n_estimators=1000)\n",
    "RF.fit(X_train,y_train)\n",
    "\n",
    "y_pred_RF_tr=RF.predict(X_train)\n",
    "y_pred_RF_val=RF.predict(X_val)\n",
    "\n",
    "f1_RF_tr=f1_score(y_train,y_pred_RF_tr,average='macro')\n",
    "f1_RF_val=f1_score(y_val,y_pred_RF_val,average='macro')\n",
    "\n",
    "print('Train f1')\n",
    "print(f1_RF_tr*100)\n",
    "print('Val_f1')\n",
    "print(f1_RF_val*100)"
   ]
  },
  {
   "cell_type": "code",
   "execution_count": null,
   "metadata": {
    "ExecuteTime": {
     "end_time": "2021-02-28T19:37:32.875270Z",
     "start_time": "2021-02-28T15:49:57.199Z"
    }
   },
   "outputs": [],
   "source": [
    "prediction_RF=RF.predict(test)\n",
    "\n",
    "submission=pd.DataFrame({\"ID\":health_test[\"ID\"],\"Response\":prediction_RF})\n",
    "submission.to_csv('sub_RF.csv',index=False)"
   ]
  },
  {
   "cell_type": "markdown",
   "metadata": {},
   "source": [
    "### Gradient boost"
   ]
  },
  {
   "cell_type": "code",
   "execution_count": null,
   "metadata": {},
   "outputs": [],
   "source": [
    "RF=RandomForestClassifier(bootstrap =True, \n",
    "                          class_weight = 'balanced',\n",
    "                          criterion='gini', \n",
    "                          max_depth=10,\n",
    "                          max_features=None,\n",
    "                          n_estimators=1000)\n",
    "RF.fit(X_train,y_train)\n",
    "\n",
    "y_pred_RF_tr=RF.predict(X_train)\n",
    "y_pred_RF_val=RF.predict(X_val)\n",
    "\n",
    "f1_RF_tr=f1_score(y_train,y_pred_RF_tr,average='macro')\n",
    "f1_RF_val=f1_score(y_val,y_pred_RF_val,average='macro')\n",
    "\n",
    "print('Train f1')\n",
    "print(f1_RF_tr*100)\n",
    "print('Val_f1')\n",
    "print(f1_RF_val*100)"
   ]
  }
 ],
 "metadata": {
  "kernelspec": {
   "display_name": "Python 3",
   "language": "python",
   "name": "python3"
  },
  "language_info": {
   "codemirror_mode": {
    "name": "ipython",
    "version": 3
   },
   "file_extension": ".py",
   "mimetype": "text/x-python",
   "name": "python",
   "nbconvert_exporter": "python",
   "pygments_lexer": "ipython3",
   "version": "3.8.5"
  },
  "toc": {
   "base_numbering": 1,
   "nav_menu": {},
   "number_sections": true,
   "sideBar": true,
   "skip_h1_title": false,
   "title_cell": "Table of Contents",
   "title_sidebar": "Contents",
   "toc_cell": true,
   "toc_position": {},
   "toc_section_display": true,
   "toc_window_display": true
  }
 },
 "nbformat": 4,
 "nbformat_minor": 4
}
